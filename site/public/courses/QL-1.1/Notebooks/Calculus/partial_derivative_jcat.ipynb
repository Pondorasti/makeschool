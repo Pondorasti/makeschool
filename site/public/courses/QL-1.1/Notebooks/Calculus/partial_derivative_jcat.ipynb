{
 "cells": [
  {
   "cell_type": "markdown",
   "metadata": {},
   "source": [
    "# Derivatives, Partial Derivatives and Gradient Descent"
   ]
  },
  {
   "cell_type": "markdown",
   "metadata": {},
   "source": [
    "## Learning Objectives\n",
    "\n",
    "By the end of this session you should be able to...\n",
    "\n",
    "1. Compute the derivative of a function of one variable\n",
    "2. Compute the partial derivatives of a function of many variables \n",
    "3. Use the method of gradient descent to find the minimum of a function of one variable"
   ]
  },
  {
   "cell_type": "markdown",
   "metadata": {},
   "source": [
    "## Motivation: Why are derivatives, partial derivatives and the method of gradient descent important? What do these things have to do with Data Science?\n",
    "Derivatives and partial derivatives are used to implement the method of gradient descent. <br>\n",
    "Gradient Descent is \n",
    "* A method for finding the minimum of a function \n",
    "* Used to train logistic regression and other models in machine learning\n",
    "* The key to training deep learning models, i.e. neural networks.\n",
    "\n",
    "\n",
    "## 1. Introduction to Derivatives\n",
    "\n",
    "The process of finding a derivative is called **Differentiation**, which is a technique used to calculate the *slope* of the *tangent line* of a function $y = f(x)$ at any point $x$. The derivative tells us how rapidly, and in what direction $y$ changes with respect to $x$\n",
    "\n",
    "### 1A. Activity - Derivative Tutorial:\n",
    "\n",
    "1. Go through this [Derivative tutorial from Math Is Fun](https://www.mathsisfun.com/calculus/derivatives-introduction.html) (15 min)\n",
    "1. When you're done, talk with a partner about topics you still have questions on. See if you can answer each other's questions. (5 min)\n",
    "1. We'll then go over questions on the tutorial as a class (10 min)\n",
    "\n",
    "### 1B. Review Diagram\n",
    "\n",
    "Review the below diagram as a class, and compare with what you just learned in the above `Derivative Tutorial`.\n",
    "\n",
    "<img src=\"diff_y_x2.png\" width=\"1200\" height=\"1200\">\n",
    "<img src=\"diff_y_x2_gragh.png\" width=\"1200\" height=\"1200\">"
   ]
  },
  {
   "cell_type": "markdown",
   "metadata": {},
   "source": [
    "## 2. The Derivative Formula\n",
    "\n",
    "$f^\\prime(x) \\equiv \\frac{d}{dx}f(x) \\equiv \\frac{\\Delta y}{\\Delta x}  = \\frac{f(x + \\Delta x) - f(x)}{\\Delta x}$\n",
    "\n",
    "The symbol $\\equiv$ is read as \"is defined as\".\n",
    "\n",
    "The above formula is meant to be evaluated in the limit as $\\Delta x$ approaches 0. <br>\n",
    "So we should choose a very small number for $\\Delta x$, say 1.e-10"
   ]
  },
  {
   "cell_type": "markdown",
   "metadata": {},
   "source": [
    "### 2A. Activity: Write a Python function to compute the gradient of any one-dimensional function\n",
    "\n",
    "* NOTE: foe one dimensional function, the *gradient* is the same thing as the *derivative*<br>\n",
    "* Use the derivative formula, above <br>\n",
    "* Use your function to evaluate the gradient of $f(x)=x^2$at $x = 3$ and $x = -2$ "
   ]
  },
  {
   "cell_type": "code",
   "execution_count": 1,
   "metadata": {},
   "outputs": [
    {
     "name": "stdout",
     "output_type": "stream",
     "text": [
      "Gradient at x = 3 is 6.0\n",
      "Gradient at x = -2 is -4.0\n"
     ]
    }
   ],
   "source": [
    "# define function we want to compute the gradient of\n",
    "def f(x):\n",
    "    return x**2\n",
    "\n",
    "# function that computes the gradient of a one dimensional function, evaluated at a given position\n",
    "def gradient(func,x):\n",
    "    '''Inputs: \n",
    "            func, the function to take the derivative of\n",
    "            x, the position (value of x) where the derivative is to be evaluated\n",
    "        Output:\n",
    "            the gradient of func(x) evaluated at position x\n",
    "       \n",
    "    '''\n",
    "    delta_x = 1e-6\n",
    "    return (f(x + delta_x) - f(x)) / delta_x\n",
    "\n",
    "x = 3\n",
    "print(f'Gradient at x = {x} is {gradient(func=f,x=x):.3}')\n",
    "x = -2\n",
    "print(f'Gradient at x = {x} is {gradient(func=f,x=x):.3}')"
   ]
  },
  {
   "cell_type": "markdown",
   "metadata": {},
   "source": [
    "Note that these values match the derivative that we compute from the calculus formula $\\frac{d}{dx}x^n = nx^{n-1}$, \n",
    "which is $\\frac{d}{dx}x^2 = 2x^{2-1} = 2x^1 = 2x$ \n",
    "\n",
    "$2*3 = 6$\n",
    "\n",
    "$2 * -2 = -4$"
   ]
  },
  {
   "cell_type": "markdown",
   "metadata": {},
   "source": [
    "### 2B. Table of Derivatives of Common Functions\n",
    "\n",
    "Computing derivatives of more complicated functions than $x^n$ is a source of much toil and busy work (not necessarily a bad thing) in introductory calculus classes. But now that you understand what a derivative is, it's not cheating to take a shortcut! The second page of this PDF lists formulas for derivatives of common functions. The first page summarizes the rules for computing derivatives. Utilize as a resource going forward!\n",
    "\n",
    "- https://www.qc.edu.hk/math/Resource/AL/Derivative%20Table.pdf"
   ]
  },
  {
   "cell_type": "markdown",
   "metadata": {},
   "source": [
    "## 3. Partial Derivatives of Functions of Two or More Variables"
   ]
  },
  {
   "cell_type": "markdown",
   "metadata": {},
   "source": [
    "Now we know how to calculate a derivative for a function of one variable. But what if we have a function of $N$ variables where $N>1$?\n",
    "\n",
    "We calculate the *partial derivatives* of the function.\n",
    "Calculating the partial derivatives for a function of $N$ variables consists of calculating $N$ ordinary derivatives: one for each variable, where the other variables are held constant.\n",
    "\n",
    "### 3A. Activity - Partial Derivative Video\n",
    "\n",
    "Let's watch this video introduction to Partial Derivatives from **Khan Academy**: https://youtu.be/AXqhWeUEtQU\n",
    "\n",
    "**Note:** Here are some derivative shortcuts that will help in the video:\n",
    "\n",
    "$\\frac{d}{dx}x^2 = 2x$\n",
    "\n",
    "$\\frac{d}{x}sin(x) = cos(x)$\n",
    "\n",
    "$\\frac{d}{dx}x = 1$\n",
    "\n"
   ]
  },
  {
   "cell_type": "markdown",
   "metadata": {},
   "source": [
    "### 3B. The Symbolic Python library `sympy` computes derivatives and partial derivatives of functions\n",
    "You can install this library from the command line via `conda install sympy` in an Anaconda shell."
   ]
  },
  {
   "cell_type": "code",
   "execution_count": 2,
   "metadata": {},
   "outputs": [
    {
     "name": "stdout",
     "output_type": "stream",
     "text": [
      "The partial derivative of f(x,y) w.r.t. (with respect to) x is 2*x/y\n",
      "The partial derivative of f(x,y) w.r.t. x is -x**2/y**2\n",
      "The partial derivative of f(x,y) w.r.t. x evaluated at the point (2,1) is 4.0\n",
      "The partial derivative of f(x,y) w.r.t. y evaluated at the point (2,1) is -4.0\n"
     ]
    }
   ],
   "source": [
    "from sympy import symbols, diff\n",
    "# initialize x and y to be symbols to use in a function\n",
    "x, y = symbols('x y', real=True)\n",
    "f = (x**2)/y\n",
    "# Find the partial derivatives of x and y\n",
    "partial_fx = diff(f, x, evaluate=True) # partial derivative of f(x,y) with respect to x\n",
    "partial_fy = diff(f, y, evaluate=True) # partial derivative of f(x,y) with respect to y\n",
    "print(f'The partial derivative of f(x,y) w.r.t. (with respect to) x is {partial_fx}')\n",
    "print(f'The partial derivative of f(x,y) w.r.t. x is {partial_fy}')\n",
    "print(f'The partial derivative of f(x,y) w.r.t. x evaluated at the point (2,1) is {partial_fx.evalf(subs={x: 2, y: 1}):.2}')\n",
    "print(f'The partial derivative of f(x,y) w.r.t. y evaluated at the point (2,1) is {partial_fy.evalf(subs={x: 2, y: 1}):.2}')"
   ]
  },
  {
   "cell_type": "markdown",
   "metadata": {},
   "source": [
    "## 4. Calculating a Function's Partial Derivatives and Gradient"
   ]
  },
  {
   "cell_type": "markdown",
   "metadata": {},
   "source": [
    "### 4A. Example: calculate the partial derivatives for a function of two variables"
   ]
  },
  {
   "cell_type": "code",
   "execution_count": 3,
   "metadata": {},
   "outputs": [
    {
     "name": "stdout",
     "output_type": "stream",
     "text": [
      "4.0000010006480125\n",
      "-3.9999959997594203\n"
     ]
    }
   ],
   "source": [
    "def f(x, y):\n",
    "    return x**2/y\n",
    "\n",
    "eps = 1e-6\n",
    "x = 2\n",
    "y = 1\n",
    "print((f(x + eps, y) - f(x, y)) / eps)\n",
    "print((f(x, y + eps) - f(x, y)) / eps)"
   ]
  },
  {
   "cell_type": "markdown",
   "metadata": {},
   "source": [
    "Looks about right! This works rather well, but it is just an approximation. Also, you need to call `f()` at least once per parameter (not twice, since we could compute `f(x, y)` just once). This makes this approach difficult to control for large systems (for example neural networks)."
   ]
  },
  {
   "cell_type": "markdown",
   "metadata": {},
   "source": [
    "### 4B. Activity: compute the gradient of a function of two variables \n",
    "Write a Python function that computes the *gradient* of any *two-dimensional* function $f(x,y)$ by **completing the code in the block below**\n",
    "\n",
    "* The *gradient* of a function is the vector composed of all the function's *partial derivatives*<br>\n",
    "* The gradient operation is denoted by the *nabla* symbol $\\nabla$ \n",
    "* The *gradient* of a two-dimensional function is thus\n",
    "    $\\nabla f(x,y) = \\left(\\frac {\\partial{f(x,y)}}{\\partial{x}}, \\frac{\\partial{f(x,y)}}{\\partial{y}}\\right)$\n",
    "* Your `gradient()` function should calculate partial derivatives using the derivative formula from section **2**<br>\n",
    "* Use your `gradient()` function to evaluate the gradient of the function $f(x, y) = \\frac{x^2}{y}$ at the point $(2,1)$"
   ]
  },
  {
   "cell_type": "code",
   "execution_count": 4,
   "metadata": {},
   "outputs": [
    {
     "name": "stdout",
     "output_type": "stream",
     "text": [
      "The gradient of f(x,y) = x**2/y at the point (2,1) is (None, None)\n"
     ]
    }
   ],
   "source": [
    "# define the 2-dimensional function for which you want to compute the gradient\n",
    "def f_xy(x,y):\n",
    "    # your code here\n",
    "    return\n",
    "\n",
    "# function to compute gradient of any two-dimensional function\n",
    "def gradient(func, x, y):\n",
    "    '''\n",
    "    inputs: \n",
    "        func: a continuous function of two variables\n",
    "        x, y: the values of the two variables at the point \n",
    "            where the gradient is to be computed\n",
    "    outputs:\n",
    "        partial_x, partial_y: the partial derivatives of the input function, \n",
    "            evaluated at specified point (x,y)\n",
    "        \n",
    "    '''\n",
    "    delta = 1.e-10\n",
    "    partial_x = None # your code here\n",
    "    partial_y = None # your code here\n",
    "    \n",
    "    return partial_x, partial_y\n",
    "\n",
    "# output\n",
    "print(f'The gradient of f(x,y) = x**2/y at the point (2,1) is {gradient(func=f_xy, x=2, y=1)}')"
   ]
  },
  {
   "cell_type": "markdown",
   "metadata": {},
   "source": [
    "## 5. The Heart of the Matter: the Method of Gradient Descent\n",
    "\n",
    "In many machine learning and deep learning applications, we need to find the minimum of a \"cost function\" (sometimes also called an \"error function\" or a \"loss function\").\n",
    "Whatever we want to call it, the cost function measures the error of a model on some training data when we compare the predicted *targets* against the true *targets*.\n",
    "\n",
    "The *targets* are what the model is trying to predict. Examples are **numbers** -- like housing prices, or **class labels** -- like \"dog\", \"cat\" or \"mouse\") \n",
    "\n",
    "Why do we want to find the minimum for a cost function? Given that a cost function measures how wrong our model is, we want to minimize that error!\n",
    "\n",
    "In Machine Learning cost functions measure how badly our models are performing. We want to adjust the parameters of the model (also known as **weights**) to minimize our cost function, therefore minimizing error of the model!\n",
    "\n",
    "We find find the optimal weights that minimize the cost function by using the **Method of Gradient Descent**. The Method of Gradient Descent repeatedly makes small adjustments to the weights that make the cost function smaller, until the cost function reaches a minimum. We'll learn more about models in future lessons, but for now, let's review the Gradient Descent process with the below images, given a cost function $J(w_0,w_1)$ that is a function of weights $w_0$ and $w_1$:\n",
    "\n",
    "<img src=\"gradient_descent.png\" width=\"2000\" height=\"2000\">\n",
    "\n",
    "Look at that bottom right image above. Looks like we're using partial derivatives to determine the optimal values of the weights $w_0$ and $w_1$ that minimize the cost function $J(w_0,w_1)$. And we know exactly how to do that!"
   ]
  },
  {
   "cell_type": "markdown",
   "metadata": {},
   "source": [
    "### 5A. Finding the minimum of a function via Gradient Descent\n",
    "\n",
    "Assume we want to minimize the function $J$ which has two weights $w_0$ and $w_1$\n",
    "\n",
    "We have two options to find the minimum of $J(w_0, w_1)$:\n",
    "\n",
    "1. Take partial derivatives of $J(w_0, w_1)$ with relation to $w_0$ and $w_1$:\n",
    "\n",
    "$\\frac{\\partial J(w_0, w_1)}{\\partial w_0}$\n",
    "\n",
    "$\\frac{\\partial J(w_0, w_1)}{\\partial w_1}$\n",
    "\n",
    "And find the appropriate weights such that the partial derivatives equal 0:\n",
    "\n",
    "$\\frac{\\partial J(w_0, w_1)}{\\partial w_0} = 0$\n",
    "\n",
    "$\\frac{\\partial J(w_0, w_1)}{\\partial w_1} = 0$\n",
    "\n",
    "In this approach we would solve the resulting system of linear or non-linear equations.\n",
    "\n",
    "2. Use the Gradient Descent algorithm:\n",
    "\n",
    "First we need to define three things:\n",
    "\n",
    "- Arbitrary random initial values for $w_0$ and $w_1$.\n",
    "- A step-size alpha ($\\alpha$) -- also called the *learning rate*, a small number like $1.e-5$\n",
    "- A *threshold* for the weight updates\n",
    "\n",
    "Next we search for the optimal values of the weights $w_0$ and $w_1$ by using a loop to repeatedly update the weights until we minimize the cost function. We terminate the loop when the weight updates become negligibly small, i.e. below the threshold that we set. For example, if we adopt a threshold of 0.0001 and the weight updates -- the changes in the weight parameters from one iteration to the next -- are both less than 0.0001, then we stop the loop and declare victory, i.e. that we have found optimal values of the weights that (approximately) minimize the loss function!\n",
    "\n",
    "Let's review some pseudocode for how to implement this algorithm:\n",
    "\n",
    "```\n",
    "# initialization\n",
    "initialize the following:\n",
    "    - starting weight values -- an initial guess, could be random\n",
    "    - the learning rate (alpha), a small positive number (we'll choose 1.e-5)\n",
    "    - the current weight update -- initialize to 1\n",
    "    - the threshold -- set this to 1.e-4\n",
    "\n",
    "# weight update loop\n",
    "while the weight update is greater than the threshold:\n",
    "    adjust the weights by adding the weight updates based on the algorithm\n",
    "    \n",
    "# return the final values of the weights\n",
    "```\n",
    "\n",
    "How do we compute the `weight updates based on the algorithm`?\n",
    "The updates are the second term on the right hand side of the equations below: they are proportional to the partial derivatives and in the opposite direction.\n",
    "    \n",
    "$w_0 = w_0 - \\alpha \\frac{\\partial J(w_0, w_1)}{\\partial w_0}$\n",
    "        \n",
    "$w_1 = w_1 - \\alpha \\frac{\\partial J(w_0, w_1)}{\\partial w_1}$"
   ]
  },
  {
   "cell_type": "markdown",
   "metadata": {},
   "source": [
    "### 5B. Gradient descent in one dimension"
   ]
  },
  {
   "cell_type": "markdown",
   "metadata": {},
   "source": [
    "#### Let's define an interesting function of one variable to minimize: <br> \n",
    "$f(x) = \\frac{x^4}{50} - 2x^2 + x + 1$\n",
    "#### We can compute the derivative of this function using the formula from calculus <br>\n",
    "$\\frac{d}{dx}(x^n) = nx^{n-1}$ <br>\n",
    "\n",
    "So that <br>\n",
    "$f^{'}(x) = \\frac{4}{50}x^3 - 4x + 1$ "
   ]
  },
  {
   "cell_type": "code",
   "execution_count": 5,
   "metadata": {},
   "outputs": [
    {
     "data": {
      "image/png": "[encoded data removed]",
      "text/plain": [
       "<Figure size 720x576 with 1 Axes>"
      ]
     },
     "metadata": {
      "needs_background": "light"
     },
     "output_type": "display_data"
    }
   ],
   "source": [
    "import matplotlib.pyplot as plt\n",
    "import numpy as np\n",
    "np.random.seed(42)\n",
    "eps = 1.e-10\n",
    "\n",
    "# define an interesting function to minimize\n",
    "x = np.linspace(-10,10, 100)\n",
    "fx =lambda x: (1/50)*x**4 - 2*x**2 + x + 1\n",
    "\n",
    "# compute derivative of x by applying the calculus formula d/dx(x**n) = n*x**(n-1)\n",
    "df_dx = lambda x: (4/50)*x**3 - 4*x + 1\n",
    "\n",
    "# plot the function, and its derivative\n",
    "plt.figure(figsize=(10,8))\n",
    "plt.plot(x,fx(x),label = 'function f(x)')\n",
    "plt.plot(x,df_dx(x),'r--',label = 'derivative df/dx')\n",
    "plt.xlabel('$x$',FontSize=18)\n",
    "plt.ylabel('$f(x)$, $f\\'(x)$',FontSize=18)\n",
    "plt.title('The function $f(x)$ and its derivative $f\\'(x)$', FontSize=18)\n",
    "\n",
    "plt.legend(prop={'size': 18})\n",
    "plt.grid()"
   ]
  },
  {
   "cell_type": "markdown",
   "metadata": {},
   "source": [
    "#### Recall our `gradient()` function from section 2, above"
   ]
  },
  {
   "cell_type": "code",
   "execution_count": 6,
   "metadata": {},
   "outputs": [],
   "source": [
    "def gradient(func,x):\n",
    "    delta_x = 1.e-10\n",
    "    return (func(x + delta_x) - func(x))/delta_x"
   ]
  },
  {
   "cell_type": "code",
   "execution_count": 7,
   "metadata": {},
   "outputs": [
    {
     "name": "stdout",
     "output_type": "stream",
     "text": [
      "The gradient of f(x) at x = -10 is -39.0\n"
     ]
    }
   ],
   "source": [
    "# test the `gradient` code by choosing a few x values \n",
    "#     and see if the answers make sense\n",
    "x = -10\n",
    "print(f'The gradient of f(x) at x = {x} is {gradient(func=fx,x=-10):.3}')"
   ]
  },
  {
   "cell_type": "markdown",
   "metadata": {},
   "source": [
    "####  Write a `gradient descent` function for a function of one variable\n",
    "Follow the pseudo-code in section **5A** "
   ]
  },
  {
   "cell_type": "code",
   "execution_count": 8,
   "metadata": {},
   "outputs": [],
   "source": [
    "def gradient_descent(func,x_init):\n",
    "    \n",
    "    '''\n",
    "    Inputs:\n",
    "        func: a function of one variable\n",
    "        x_init: the starting value of the variable\n",
    "    Outputs: \n",
    "        x: the value of the variable at which func reached a minimum\n",
    "        n_iter: the number of iterations of the weight update loop \n",
    "            before it was terminated\n",
    "        x_values: the list of updated weights\n",
    "        '''\n",
    "    \n",
    "    # Initialize\n",
    "    alpha = 1.e-4\n",
    "    threshold = 1.e-4\n",
    "    delta_x = 1.\n",
    "    x = x_init\n",
    "    n_iter = 0\n",
    "    x_values = []\n",
    "    \n",
    "    # run the weight update loop until it terminates\n",
    "    while np.abs(delta_x) > threshold: #and n_iter < max_iter:\n",
    "        \n",
    "        # compute the derivative of the function\n",
    "        df_dx = gradient(func,x)\n",
    "        # compute the weight update\n",
    "        delta_x = -alpha*df_dx\n",
    "        # apply the weight update\n",
    "        x = x + delta_x\n",
    "        # append to the running list of updated weights\n",
    "        x_values.append(x)\n",
    "        # increment the iteration count\n",
    "        n_iter+=1\n",
    "        \n",
    "    return x, n_iter, x_values "
   ]
  },
  {
   "cell_type": "markdown",
   "metadata": {},
   "source": [
    "#### Minimize the function $f(x) = \\frac{x^4}{50} - 2x^2 + x + 1$\n",
    "Choose an initial value for $x$ <br>\n",
    "Then run your `gradient_descent` code to to find the value of $x$ that minimizes the function."
   ]
  },
  {
   "cell_type": "code",
   "execution_count": 9,
   "metadata": {},
   "outputs": [
    {
     "name": "stdout",
     "output_type": "stream",
     "text": [
      "Starting at the point x = 2.5, \n",
      "    we found that the function reaches a minimum at x_star = 6.81 \n",
      "    after 6853 iterations\n"
     ]
    }
   ],
   "source": [
    "# choose a starting point -- could be random\n",
    "# np.random.seed(42)\n",
    "# x_init = np.random.uniform(-10,10,1) \n",
    "x_init = 2.5\n",
    "x_star, n_iter, x_values = gradient_descent(func=fx,x_init=x_init) \n",
    "print(f'Starting at the point x = {x_init}, \\n    \\\n",
    "we found that the function reaches a minimum at x_star = \\\n",
    "{x_star:.3} \\n    after {n_iter} iterations')"
   ]
  },
  {
   "cell_type": "markdown",
   "metadata": {},
   "source": [
    "#### Check that the derivative is reasonably close to zero when evaluated at the `x_star` found by your `gradient_descent` function\n",
    "Remember that the derivative ranges between $[-40,+40]$ according to the above graph."
   ]
  },
  {
   "cell_type": "code",
   "execution_count": 10,
   "metadata": {},
   "outputs": [
    {
     "name": "stdout",
     "output_type": "stream",
     "text": [
      "Derivative from the calculus formula is -0.9987282580894323\n",
      "Derivative from the definition is  -0.9987388693843968\n"
     ]
    }
   ],
   "source": [
    "# derivative, from calculus formula\n",
    "print(f'Derivative from the calculus formula is {df_dx(x_star)}')\n",
    "\n",
    "# derivative, from definition\n",
    "print(f'Derivative from the definition is  {gradient(func=fx,x=x_star)}')"
   ]
  },
  {
   "cell_type": "markdown",
   "metadata": {},
   "source": [
    "#### Visualize how gradient descent finds the minimum of the function"
   ]
  },
  {
   "cell_type": "code",
   "execution_count": 11,
   "metadata": {},
   "outputs": [
    {
     "data": {
      "image/png": "[encoded data removed]",
      "text/plain": [
       "<Figure size 864x576 with 1 Axes>"
      ]
     },
     "metadata": {
      "needs_background": "light"
     },
     "output_type": "display_data"
    }
   ],
   "source": [
    "x_values = np.array(x_values)\n",
    "x = np.linspace(-10,10, 100)\n",
    "\n",
    "plt.figure(figsize=(12,8))\n",
    "plt.plot(x,fx(x),'b-',label = 'function f(x)')\n",
    "plt.plot(np.array(x_values),fx(x_values),'m.',markersize = 10, label='gradient descent updates')\n",
    "plt.plot(x_init,fx(x_init),'k.',markersize = 20, label = '$x_{init}$, starting point')\n",
    "plt.plot(x_star,fx(x_star),'k*',markersize = 20, label = '$x_{star}$, minimum of the function',)\n",
    "plt.xlabel('x',FontSize = 18)\n",
    "plt.ylabel('f(x)',FontSize = 18)\n",
    "plt.title('Minimizing a function via gradient descent',FontSize = 18)\n",
    "plt.grid()\n",
    "plt.legend(loc='best',prop={'size': 18});"
   ]
  },
  {
   "cell_type": "markdown",
   "metadata": {},
   "source": [
    "### 5C. Activity: \n",
    "In the above section, our `gradient_descent()` function required almost 7000 iterations (steps) to find the minimum of the input function.\n",
    "See if you can tune the value(s) of the *hyperparameters* $alpha$ and $threshhold$ in the `gradient_descent()` code to get reasonably close to the same answer(s) in fewer than 700 steps."
   ]
  },
  {
   "cell_type": "markdown",
   "metadata": {},
   "source": [
    "## Resources\n",
    "\n",
    "- [Derivative tutorial from Math Is Fun](https://www.mathsisfun.com/calculus/derivatives-introduction.html) \n",
    "- [Derivative Table](https://www.qc.edu.hk/math/Resource/AL/Derivative%20Table.pdf)\n",
    "- [Khan Academy - Partial Derivatives video](https://www.youtube.com/watch?v=AXqhWeUEtQU&feature=youtu.be)\n",
    "- [Towards Data Science - Machine Learning Fundamentals: cost functions and gradient Descent](https://towardsdatascience.com/machine-learning-fundamentals-via-linear-regression-41a5d11f5220)"
   ]
  },
  {
   "cell_type": "code",
   "execution_count": null,
   "metadata": {},
   "outputs": [],
   "source": []
  }
 ],
 "metadata": {
  "kernelspec": {
   "display_name": "Python 3",
   "language": "python",
   "name": "python3"
  },
  "language_info": {
   "codemirror_mode": {
    "name": "ipython",
    "version": 3
   },
   "file_extension": ".py",
   "mimetype": "text/x-python",
   "name": "python",
   "nbconvert_exporter": "python",
   "pygments_lexer": "ipython3",
   "version": "3.8.3"
  }
 },
 "nbformat": 4,
 "nbformat_minor": 2
}
