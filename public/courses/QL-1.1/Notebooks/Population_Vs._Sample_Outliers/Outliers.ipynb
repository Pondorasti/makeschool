{
  "nbformat": 4,
  "nbformat_minor": 0,
  "metadata": {
    "colab": {
      "name": "Outliers.ipynb",
      "provenance": [],
      "collapsed_sections": []
    },
    "kernelspec": {
      "name": "python3",
      "display_name": "Python 3"
    }
  },
  "cells": [
    {
      "cell_type": "markdown",
      "metadata": {
        "id": "sU-GBUnyvj4Q"
      },
      "source": [
        "### Visualizing Outliers in Python - Box Plots\n",
        "\n",
        "Box plots are a kind of data visualization that tell us some different things about our data than the kinds of visualizations we've worked with so far (namely, histograms and bar charts). \n",
        "\n",
        "Here, we'll be able to see the median of our data, as well as any outliers.\n",
        "\n",
        "*This demo is taken from [this](https://matplotlib.org/stable/gallery/pyplots/boxplot_demo_pyplot.html#sphx-glr-gallery-pyplots-boxplot-demo-pyplot-py) resource, if you'd like to play around a bit more!*"
      ]
    },
    {
      "cell_type": "code",
      "metadata": {
        "colab": {
          "base_uri": "https://localhost:8080/"
        },
        "id": "vFs_lHv-th2Y",
        "outputId": "2c598ee1-9ea2-4f6f-b8d8-ad88da6e55b0"
      },
      "source": [
        "# Let's import our libraries - numpy for mathematics and matplotlib for the visualization\n",
        "import numpy as np\n",
        "import matplotlib.pyplot as plt\n",
        "\n",
        "# We're going to set a random seed - this allows us to reproduce this example\n",
        "np.random.seed(19680801)\n",
        "\n",
        "# fake up some data\n",
        "spread = np.random.rand(50) * 100\n",
        "center = np.ones(25) * 50\n",
        "flier_high = np.random.rand(10) * 100 + 100\n",
        "flier_low = np.random.rand(10) * -100\n",
        "data = np.concatenate((spread, center, flier_high, flier_low))\n",
        "data"
      ],
      "execution_count": null,
      "outputs": [
        {
          "output_type": "execute_result",
          "data": {
            "text/plain": [
              "array([ 70.03673039,  74.27508094,  70.92800107,  56.67455225,\n",
              "        97.77853328,  70.6334846 ,  24.79157587,  15.78833509,\n",
              "        69.76985214,  71.99566667,  25.77444303,  34.15467831,\n",
              "        96.87611677,  69.45070978,  46.63832593,  70.28126954,\n",
              "        51.1785874 ,  92.874137  ,  73.97692989,  62.24390337,\n",
              "        65.15454689,  39.68076115,  54.32393949,  79.98995282,\n",
              "        72.15447266,  29.53639811,  16.09458806,  20.61255148,\n",
              "        13.43253868,  48.06050174,  34.25218134,  36.29692901,\n",
              "        97.29176387,  11.09436116,  38.82640891,  78.30658753,\n",
              "        97.28972601,  48.32096053,  33.64211054,  56.74190362,\n",
              "         4.79415097,  38.8937029 ,  90.63036451,  16.10182093,\n",
              "        74.36211347,  63.29741618,  32.41800177,  92.23765324,\n",
              "        23.72264387,  82.39455709,  50.        ,  50.        ,\n",
              "        50.        ,  50.        ,  50.        ,  50.        ,\n",
              "        50.        ,  50.        ,  50.        ,  50.        ,\n",
              "        50.        ,  50.        ,  50.        ,  50.        ,\n",
              "        50.        ,  50.        ,  50.        ,  50.        ,\n",
              "        50.        ,  50.        ,  50.        ,  50.        ,\n",
              "        50.        ,  50.        ,  50.        , 175.06071403,\n",
              "       111.37844527, 184.53612452, 192.3932129 , 122.08367918,\n",
              "       193.3053876 , 148.89987436, 147.47186402, 108.91674722,\n",
              "       122.9948178 , -71.59374101, -49.6126162 , -76.64893785,\n",
              "       -89.67973224, -77.22230183, -92.71742883, -61.46520272,\n",
              "       -60.90637692, -68.46848657, -25.10129674])"
            ]
          },
          "metadata": {
            "tags": []
          },
          "execution_count": 2
        }
      ]
    },
    {
      "cell_type": "code",
      "metadata": {
        "colab": {
          "base_uri": "https://localhost:8080/",
          "height": 420
        },
        "id": "83JyXe-2wTj0",
        "outputId": "81169b23-60c9-4185-82f5-3901c854fd8a"
      },
      "source": [
        "fig1, ax1 = plt.subplots()\n",
        "ax1.set_title('Basic Plot')\n",
        "ax1.boxplot(data)"
      ],
      "execution_count": null,
      "outputs": [
        {
          "output_type": "execute_result",
          "data": {
            "text/plain": [
              "{'boxes': [<matplotlib.lines.Line2D at 0x7ff74e5595f8>],\n",
              " 'caps': [<matplotlib.lines.Line2D at 0x7ff74e4f3048>,\n",
              "  <matplotlib.lines.Line2D at 0x7ff74e4f33c8>],\n",
              " 'fliers': [<matplotlib.lines.Line2D at 0x7ff74e4f3ac8>],\n",
              " 'means': [],\n",
              " 'medians': [<matplotlib.lines.Line2D at 0x7ff74e4f3748>],\n",
              " 'whiskers': [<matplotlib.lines.Line2D at 0x7ff74e559908>,\n",
              "  <matplotlib.lines.Line2D at 0x7ff74e559c88>]}"
            ]
          },
          "metadata": {
            "tags": []
          },
          "execution_count": 3
        },
        {
          "output_type": "display_data",
          "data": {
            "image/png": "[encoded data removed]",
            "text/plain": [
              "<Figure size 432x288 with 1 Axes>"
            ]
          },
          "metadata": {
            "tags": [],
            "needs_background": "light"
          }
        }
      ]
    },
    {
      "cell_type": "markdown",
      "metadata": {
        "id": "5eQKaq7YwX7g"
      },
      "source": [
        "So what does the above chart represent? \n",
        "\n",
        "The *box* is the rectangle near the middle, and it shows us our **interquartile range** - our inner two *quartiles* of data (inner hear means *closest to the median*). \n",
        "\n",
        "The orange line represents our *median* value. \n",
        "\n",
        "The whiskers represent the outlier thresholds: the upper whisker is at  Q3 + 1.5 * IQR and the lower whisker is at  Q1 - 1.5 * IQR\n",
        "\n",
        "The unfilled circles outside of the whiskers represent any *outliers* in our data!\n",
        "\n"
      ]
    },
    {
      "cell_type": "markdown",
      "metadata": {
        "id": "QPFLJkyuxeBc"
      },
      "source": [
        "This is a great way to visualize outliers, but it's not the only way to find them! "
      ]
    },
    {
      "cell_type": "markdown",
      "metadata": {
        "id": "91oZwS40ynwM"
      },
      "source": [
        "We've just visualized our outliers using our **Interquartile Range**. Let's apply this concept to also find our outliers using a Python program!\n",
        "\n",
        "You were briefly just introduced to the concept of the **Interquartile Range**, but let's recap before we code:\n",
        "1. To extract or reject outliers using this method, we first break our data up into *quartiles*.\n",
        "2. We define our interquartile range or **IQR** by subtracting our 1st quartile of data from our third (in other words, we find our *inner two quartiles*). \n",
        "  - IQR = Q3 - Q1 \n",
        "2. Then, we create a boundary using these quartiles. We define our \"upper\" boundary by taking our *third quartile* (Q3) and adding to 1.5 * IQR. We then take our *first quartile* (Q1) and subtract 1.5 * IQR. \n",
        "  - if element in data is > Q3 + 1.5*IQR OR < Q1 - 1.5*IQR, we determine that element is an outlier.\n",
        "\n",
        "Make sense? Take a second to ask questions or recap [this](https://www.khanacademy.org/math/statistics-probability/summarizing-quantitative-data/box-whisker-plots/a/identifying-outliers-iqr-rule) article if you need a refresher!\n",
        "\n",
        "When you're ready, read [this](https://medium.com/datadriveninvestor/finding-outliers-in-dataset-using-python-efc3fce6ce32) resource, and pause at the **Using IQR** section to code along!"
      ]
    },
    {
      "cell_type": "code",
      "metadata": {
        "id": "ZjYItC3tybZk"
      },
      "source": [
        "# TODO: sort dataset\n",
        "# IQR 1"
      ],
      "execution_count": null,
      "outputs": []
    },
    {
      "cell_type": "code",
      "metadata": {
        "id": "uO6ErczAy0Ak"
      },
      "source": [
        "# TODO: find first and third quartile using np.percentile \n",
        "# IQR 2"
      ],
      "execution_count": null,
      "outputs": []
    },
    {
      "cell_type": "code",
      "metadata": {
        "id": "TsG5PVIpy4rA"
      },
      "source": [
        "# Find the difference between the first and third quartile: (hint: just uncomment the next line!)\n",
        "# iqr = q3 - q1\n",
        "# IQR 3"
      ],
      "execution_count": null,
      "outputs": []
    },
    {
      "cell_type": "code",
      "metadata": {
        "id": "8XYo7I4Iy9mo"
      },
      "source": [
        "# TODO: find lower and upper bound\n",
        "# IQR 4"
      ],
      "execution_count": null,
      "outputs": []
    },
    {
      "cell_type": "code",
      "metadata": {
        "id": "M8JbH0urzFlk"
      },
      "source": [
        "# Based on our lower and upper bounds, what values would be our outliers? Discuss with your group, and add your answer below!\n",
        "# IQR5"
      ],
      "execution_count": null,
      "outputs": []
    },
    {
      "cell_type": "markdown",
      "metadata": {
        "id": "v3NMpQBpzN40"
      },
      "source": [
        "*Your answer goes here!*\n"
      ]
    },
    {
      "cell_type": "markdown",
      "metadata": {
        "id": "0qSqZkaJyjCo"
      },
      "source": [
        "Next, go back to the first section of [the article](https://medium.com/datadriveninvestor/finding-outliers-in-dataset-using-python-efc3fce6ce32). This section uses **Z-Score** to find our outliers!\n",
        "\n",
        "**When would we use Z-Score versus IQR?**\n",
        "\n",
        "In the Z-Score method, data points are *standardized*. Their distance from the mean are expressed in multiples of the standard deviation σ. \n",
        "\n",
        "Points lying 3σ (3 standard deviations) away from the mean are identified as outliers. And just as in the IQR method, these outliers can be neatly clipped from the data if we need them to be.\n",
        "\n",
        "This method is best used when our data has an approximately *Gaussian* or *normal* distribution.\n",
        "\n",
        "**Why do you think that is?**"
      ]
    },
    {
      "cell_type": "code",
      "metadata": {
        "id": "LsgvDz_8wWwg"
      },
      "source": [
        "# TODO: import your libraries"
      ],
      "execution_count": null,
      "outputs": []
    },
    {
      "cell_type": "code",
      "metadata": {
        "id": "L_jlwibbx8S8"
      },
      "source": [
        "dataset= [10,12,12,13,12,11,14,13,15,10,10,10,100,12,14,13, 12,10, 10,11,12,15,12,13,12,11,14,13,15,10,15,12,10,14,13,15,10]"
      ],
      "execution_count": null,
      "outputs": []
    },
    {
      "cell_type": "code",
      "metadata": {
        "id": "57lzZI5Cx-hI"
      },
      "source": [
        "# TODO: following the article, use the function she wrote to write our detect_outlier() method\n",
        "outliers=[]\n",
        "\n",
        "# TODO: Call detect_outlier() on dataset\n",
        "# Do you see the correct value printed?"
      ],
      "execution_count": null,
      "outputs": []
    }
  ]
}