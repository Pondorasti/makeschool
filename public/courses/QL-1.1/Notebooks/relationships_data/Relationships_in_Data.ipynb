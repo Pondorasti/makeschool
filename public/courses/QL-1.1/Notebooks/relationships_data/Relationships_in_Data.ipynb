{
 "cells": [
  {
   "cell_type": "markdown",
   "metadata": {},
   "source": [
    "# Relationships in Data\n",
    "\n",
    "Exploring the mathematical relationships in data can help us uncover invaluable insights about aspects of the world the data is describing. In this lesson we will explore some of the fundamental data relationships that can be calculated. These relationships include variance, percentile, correlation, and covariance. We will explore what each of these mean, how they are calculated, and apply them to a real dataset."
   ]
  },
  {
   "cell_type": "markdown",
   "metadata": {},
   "source": [
    "## Variables"
   ]
  },
  {
   "cell_type": "markdown",
   "metadata": {},
   "source": [
    "Before diving into the details of data relationships we first need to talk about variables. A variable in data is any attribute quantity, or numerical value that can be measured. Some examples of data variables that you may be familiar with are things such as age, cost, temperature etc. Datasets consist of a number of observed values of several different variables."
   ]
  },
  {
   "cell_type": "markdown",
   "metadata": {},
   "source": [
    "There are two different types of variables that can be present in a dataset, numerical and categorical. In this course we will focus on numerical variables.\n",
    "\n",
    "### Numerical Variables: how many? how much?\n",
    "\n",
    "Numerical variables correspond to things that can be represented by a number. Numeric variables can either be discrete or continuous. \n",
    "\n",
    "Discrete variables have whole number values and represent things that cannot be fractional such as the number of pets in a household.\n",
    "\n",
    "Continuous variables are represented by real numbers and can be used for things such as height or weight."
   ]
  },
  {
   "cell_type": "markdown",
   "metadata": {},
   "source": [
    "## Variance"
   ]
  },
  {
   "cell_type": "markdown",
   "metadata": {},
   "source": [
    "You may recall variance from the descriptive statistic lesson. Variance is a measure of how spread out the data is or to put it another way it measures how far a set of numbers is spread out from their average value. \n",
    "\n",
    "![Variance](variance.png)\n",
    "\n",
    "Here is the equation for variance \n",
    "\n",
    "![Variance equation](variance.jpg)\n",
    "\n",
    "### Activity: Write a function to compute the variance of an array of numbers\n"
   ]
  },
  {
   "cell_type": "code",
   "execution_count": 9,
   "metadata": {},
   "outputs": [
    {
     "name": "stdout",
     "output_type": "stream",
     "text": [
      "9.885375494071146\n",
      "9.885375494071146\n"
     ]
    }
   ],
   "source": [
    "import numpy as np\n",
    "data = np.array([1, 3, 5, 2, 3, 7, 8, 4, 10, 0, 6, 7, 3, 0, 3, 0, 5, 7, 10, 1, 4, 9, 3])\n",
    "\n",
    "# first we have a function to calculate the mean\n",
    "def mean(data):\n",
    "    return sum(data) / len(data)\n",
    "\n",
    "def variance(data):\n",
    "    m = mean(data)\n",
    "    S = 0\n",
    "    for xi in data:\n",
    "        S += #TODO: what needs to be added here?\n",
    "    return S / (len(data) - 1)\n",
    "\n",
    "print(variance(data))\n",
    "\n",
    "#To check your work you can use the built in numpy variance method (np.var())\n",
    "print(np.var(data, ddof=1))"
   ]
  },
  {
   "cell_type": "markdown",
   "metadata": {},
   "source": [
    "## Application of variance\n",
    "\n",
    "For visualization, do: `pip install matplotlib`"
   ]
  },
  {
   "cell_type": "code",
   "execution_count": 12,
   "metadata": {},
   "outputs": [
    {
     "data": {
      "text/plain": [
       "Text(0,0.5,'Water Drinks (Litre)')"
      ]
     },
     "execution_count": 12,
     "metadata": {},
     "output_type": "execute_result"
    },
    {
     "data": {
      "image/png": "[encoded data removed]",
      "text/plain": [
       "<Figure size 432x288 with 1 Axes>"
      ]
     },
     "metadata": {},
     "output_type": "display_data"
    }
   ],
   "source": [
    "import numpy as np\n",
    "import matplotlib.pyplot as plt\n",
    "\n",
    "# Running Distance in Mile\n",
    "X = np.array([3.3,4.4,5.5,6.71,6.93,4.168,9.779,6.182,7.59,2.167,\n",
    "                         7.042,10.791,5.313,7.997,5.654,9.27,3.1])\n",
    "\n",
    "# Water Drinks in Litre\n",
    "Y = np.array([1.7,2.76,2.09,3.19,1.694,1.573,3.366,2.596,2.53,1.221,\n",
    "                         2.827,3.465,1.65,2.904,2.42,2.94,1.3])\n",
    "\n",
    "plt.scatter(X, Y)\n",
    "plt.xlabel('Running Distance (Mile)')\n",
    "plt.ylabel('Water Drinks (Litre)')"
   ]
  },
  {
   "cell_type": "code",
   "execution_count": 13,
   "metadata": {},
   "outputs": [
    {
     "data": {
      "text/plain": [
       "[<matplotlib.lines.Line2D at 0x11b86a630>]"
      ]
     },
     "execution_count": 13,
     "metadata": {},
     "output_type": "execute_result"
    },
    {
     "data": {
      "image/png": "[encoded data removed]",
      "text/plain": [
       "<Figure size 432x288 with 1 Axes>"
      ]
     },
     "metadata": {},
     "output_type": "display_data"
    }
   ],
   "source": [
    "predicted_y_values = list(map(lambda x: 0.7*x + 0.3, X))\n",
    "plt.scatter(X, Y)\n",
    "plt.plot(X, predicted_y_values, 'ro-')"
   ]
  },
  {
   "cell_type": "markdown",
   "metadata": {},
   "source": [
    "## Activity: Calculate the error between the actual dotted points and the line (which is our estimation)"
   ]
  },
  {
   "cell_type": "code",
   "execution_count": 14,
   "metadata": {},
   "outputs": [
    {
     "data": {
      "text/plain": [
       "1.3343514911764705"
      ]
     },
     "execution_count": 14,
     "metadata": {},
     "output_type": "execute_result"
    }
   ],
   "source": [
    "error = [(i-j) for i, j in zip(Y, predicted_y_values)]\n",
    "\n",
    "np.var(error, ddof=1)"
   ]
  },
  {
   "cell_type": "code",
   "execution_count": 16,
   "metadata": {},
   "outputs": [
    {
     "data": {
      "text/plain": [
       "6.518593101764703"
      ]
     },
     "execution_count": 16,
     "metadata": {},
     "output_type": "execute_result"
    }
   ],
   "source": [
    "# MSE\n",
    "sum([i**2 for i in error])/len(error)"
   ]
  },
  {
   "cell_type": "code",
   "execution_count": 17,
   "metadata": {},
   "outputs": [
    {
     "data": {
      "text/plain": [
       "[<matplotlib.lines.Line2D at 0x11ba8d940>]"
      ]
     },
     "execution_count": 17,
     "metadata": {},
     "output_type": "execute_result"
    },
    {
     "data": {
      "image/png": "[encoded data removed]",
      "text/plain": [
       "<Figure size 432x288 with 1 Axes>"
      ]
     },
     "metadata": {},
     "output_type": "display_data"
    }
   ],
   "source": [
    "predicted_y_values = list(map(lambda x: 0.25163494*x + 0.79880123, X))\n",
    "plt.scatter(X, Y)\n",
    "plt.plot(X, predicted_y_values, 'ro-')"
   ]
  },
  {
   "cell_type": "code",
   "execution_count": 18,
   "metadata": {},
   "outputs": [
    {
     "data": {
      "text/plain": [
       "0.16347377866953056"
      ]
     },
     "execution_count": 18,
     "metadata": {},
     "output_type": "execute_result"
    }
   ],
   "source": [
    "error = [(i-j) for i, j in zip(Y, predicted_y_values)]\n",
    "\n",
    "np.var(error, ddof=1)\n"
   ]
  },
  {
   "cell_type": "code",
   "execution_count": 19,
   "metadata": {},
   "outputs": [
    {
     "data": {
      "text/plain": [
       "0.15385767404191164"
      ]
     },
     "execution_count": 19,
     "metadata": {},
     "output_type": "execute_result"
    }
   ],
   "source": [
    "# MSE\n",
    "sum([i**2 for i in error])/len(error)"
   ]
  },
  {
   "cell_type": "markdown",
   "metadata": {},
   "source": [
    "## Percentile\n",
    "\n",
    "Percentile is defined as the value below which a percentage of the data falls. Percentiles can help us interpret the standing of a particular value within a data set. Given a dataset we can calculate the nth percentile using the steps below: \n",
    "1. Arrange the data in ascending order\n",
    "2. Find the index of the (ordinal rank) of the percentile value by calculating index = ceiling((percent/100) * len(data))\n",
    "3. Find the value that is located at the index\n",
    "\n",
    "### Activity: Write a function to compute the percentile\n",
    "\n"
   ]
  },
  {
   "cell_type": "code",
   "execution_count": 20,
   "metadata": {},
   "outputs": [
    {
     "name": "stdout",
     "output_type": "stream",
     "text": [
      "3\n",
      "3\n"
     ]
    }
   ],
   "source": [
    "data = np.array([1, 3, 5, 2, 3, 7, 8, 4, 10, 0, 6, 7, 3, 0, 3, 0, 5, 7, 10, 1, 4, 9, 3])\n",
    "\n",
    "def percentile(data, percent):\n",
    "    #first we want to sort the data in ascending order\n",
    "    data = np.sort(data)\n",
    "    #then we will get the index\n",
    "    \n",
    "    index = (percent/100)*len(data) #TODO: finish this\n",
    "    \n",
    "    #we will have to round up to the nearest whole number using the ceiling method and covert to an int\n",
    "    index = int(np.ceil(index))\n",
    "    \n",
    "    return data[index-1] #adjust by -1 since indices start with 0\n",
    "    \n",
    "print(percentile(data, 44))\n",
    "#check your work by comparing to numpy.percentile()\n",
    "print(int(np.percentile(data, 44)))"
   ]
  },
  {
   "cell_type": "markdown",
   "metadata": {},
   "source": [
    "### Verify 44 percent of the data is less or equal than 3 for that given list?"
   ]
  },
  {
   "cell_type": "code",
   "execution_count": 22,
   "metadata": {},
   "outputs": [
    {
     "data": {
      "text/plain": [
       "0.43478260869565216"
      ]
     },
     "execution_count": 22,
     "metadata": {},
     "output_type": "execute_result"
    }
   ],
   "source": [
    "# Count how many 0 do we have? ->2\n",
    "# Count how many 1 do we have? ->2\n",
    "# Count how many 2 do we have? ->1\n",
    "# Count how many 3 do we have? ->5\n",
    "\n",
    "(2 + 2 + 1 + 5)/len(data) "
   ]
  },
  {
   "cell_type": "markdown",
   "metadata": {},
   "source": [
    "## Covariance and Correlation"
   ]
  },
  {
   "cell_type": "markdown",
   "metadata": {},
   "source": [
    "### Covariance"
   ]
  },
  {
   "cell_type": "markdown",
   "metadata": {},
   "source": [
    "Covariance can be used to measure how two variables change or vary together. A positive covariance means the variables are positively related, while a negative covariance means the variables are inversely related.\n",
    "\n",
    "Covariance can be calculated like this:\n",
    "\n",
    "Covariance: $Cov(X,Y)=1/(n-1) \\sum_{i=1}^{n}(x[i] - \\bar{x})(y[i] - \\bar{y})$\n",
    "\n",
    "If we know the distribution of X and Y:\n",
    "\n",
    "Covariance: $Cov(X,Y)=E((X−μ_X)(Y −μ_Y))$\n",
    "\n",
    "X and Y are random variables:\n",
    "\n",
    "$E(X) = μ_X$ is the expected value (the mean) of the random variable X \n",
    "\n",
    "$E(Y) = μ_Y$ is the expected value (the mean) of the random variable Y\n",
    "\n",
    "Lets watch this Video: https://www.youtube.com/watch?v=0GzMcUy7ZI0"
   ]
  },
  {
   "cell_type": "markdown",
   "metadata": {},
   "source": [
    "### Correlation\n",
    "\n",
    "Correlation is used to test relationships between quantitative variables\n",
    "\n",
    "Some examples of data that have a high correlation:\n",
    "\n",
    "1- Your caloric intake and your weight\n",
    "\n",
    "2- The amount of time your study and your GPA\n",
    "\n",
    "Question what is negative correlation?\n",
    "Answer: Running in miles and weight\n",
    "\n",
    "Question what is zero correlation?\n",
    "Answer: IQ and Age\n",
    "\n",
    "Correlations are useful because we can find out what relationship variables have, we can make predictions about future behavior.\n",
    "\n",
    "- Mathematically:\n",
    "\n",
    "$corr(X,Y)= \\sum_{i=1}^{n}(x[i] - \\bar{x})(y[i] - \\bar{y})/\\big((\\sum_{i=1}^{n}(x[i] - \\bar{x})^2)(\\sum_{i=1}^{n}(y[i] - \\bar{y})^2)\\big)^{1/2}$\n",
    "\n",
    "If we know the distribution of X and Y:\n",
    "\n",
    "$\\rho_{XY}=Cov(X,Y)/μ_Xμ_Y$"
   ]
  },
  {
   "cell_type": "markdown",
   "metadata": {},
   "source": [
    "Correlation is broadly defined as the statistical relationship between two quantitative variables. It is similar to covaraince in that it can be used measure how variables change together. However, correlation not only can tell us the direction of the relationship, but also the strength.\n",
    "\n",
    "There are a number of reasons why different variables could be correlated. It is important to keep in mind that correlation does not necessarily mean causation. Two variables being correlated does not always mean that one is caused by the other, it may be the case that these varaibles could both depend on a third unknown variable. All correlation tells us is that there is some sort of relationship present which can help us make predictions about future behavior. \n",
    "\n",
    "We can describe some correlations in terms of how variables change. \n",
    "\n",
    "If a positve correlation is present, both variables will change in the same direction. If the value of one variable increases then the value of the other variable will also increase. They will also decrese together as well. \n",
    "\n",
    "If a neutral correlation is present there is no measureable relationship when the variables change.\n",
    "\n",
    "If a negative correlation is present, then when one variables goes up the other will go down and vice versa.\n",
    "\n",
    "![Correlation Direction](correlation_direction.jpg)\n",
    "\n",
    "\n",
    "Correlation refers to the idea of relationships between variables but there are several different ways to actually calculate correlation using a correlation coefficient, which is a way to represent the relationship with a value. In this course we will focus on Pearson's correlation coefficient as known as Pearson's r.\n",
    "\n",
    "![Pearson's r](Pearson.jpg)\n",
    "\n"
   ]
  },
  {
   "cell_type": "markdown",
   "metadata": {},
   "source": [
    "## Activity: Obtain the correlation between two columns in Titanic, Fare and Siblings/Spouses Aboard\n",
    "\n",
    "- We want to know if we have large famility size then can we conclude we paid more "
   ]
  },
  {
   "cell_type": "code",
   "execution_count": 33,
   "metadata": {},
   "outputs": [
    {
     "name": "stdout",
     "output_type": "stream",
     "text": [
      "0.15883935829132229\n",
      "(0.1588393582913223, 1.9925060302939916e-06)\n"
     ]
    }
   ],
   "source": [
    "import pandas as pd\n",
    "import scipy.stats\n",
    "\n",
    "df = pd.read_csv('titanic.csv')\n",
    "\n",
    "#here is a function to calculate pearson's correlation coefficient\n",
    "def pearson_corr(x, y):\n",
    "    x_mean = np.mean(x)\n",
    "    y_mean = np.mean(y)\n",
    "    num = [(i - x_mean)*(j - y_mean) for i,j in zip(x,y)]\n",
    "    den_1 = [(i - x_mean)**2 for i in x]\n",
    "    den_2 = [(j - y_mean)**2 for j in y]\n",
    "    correlation_x_y = np.sum(num)/np.sqrt(np.sum(den_1))/np.sqrt(np.sum(den_2))\n",
    "    return correlation_x_y\n",
    "\n",
    "print(pearson_corr(df['Fare'], df['Siblings/Spouses Aboard']))\n",
    "print(scipy.stats.pearsonr(df['Fare'], df['Siblings/Spouses Aboard']))\n",
    "\n"
   ]
  },
  {
   "cell_type": "code",
   "execution_count": null,
   "metadata": {},
   "outputs": [],
   "source": []
  }
 ],
 "metadata": {
  "kernelspec": {
   "display_name": "Python 3",
   "language": "python",
   "name": "python3"
  },
  "language_info": {
   "codemirror_mode": {
    "name": "ipython",
    "version": 3
   },
   "file_extension": ".py",
   "mimetype": "text/x-python",
   "name": "python",
   "nbconvert_exporter": "python",
   "pygments_lexer": "ipython3",
   "version": "3.6.5"
  }
 },
 "nbformat": 4,
 "nbformat_minor": 2
}
