{
  "nbformat": 4,
  "nbformat_minor": 0,
  "metadata": {
    "colab": {
      "name": "Modular_Arithmetic_and_NumPy_Mod.ipynb",
      "provenance": [],
      "collapsed_sections": []
    },
    "kernelspec": {
      "name": "python3",
      "display_name": "Python 3"
    }
  },
  "cells": [
    {
      "cell_type": "markdown",
      "metadata": {
        "id": "tgeG3kE6re4o"
      },
      "source": [
        "# What is Modular Arithmetic?\n",
        "\n",
        "Remember that funky little thing we can do in Python called the *modulus operator*? It looks like this: \n",
        "\n",
        "10 % 8 = 2\n",
        "\n",
        "What we're doing there is we're taking the *modulus* of the division of 10 and 8, which gives us the *remainder* of that division. \n",
        "\n",
        "This is the basis of modular arithmetic - division operations which yield us a remainder. \n",
        "\n",
        "[Here](https://www.khanacademy.org/computing/computer-science/cryptography/modarithmetic/a/what-is-modular-arithmetic) is an article with some more examples if you'd like to dive deeper!"
      ]
    },
    {
      "cell_type": "markdown",
      "metadata": {
        "id": "qsFQ65LlxHgU"
      },
      "source": [
        "## When would we use modular arithmetic? \n",
        "\n",
        "Modular arithmetic is useful for lots of things, and you actually use it every day without even thinking! Things like: \n",
        "\n",
        "\n",
        "*   Cryptography (notably in our field of computer science, public key encryption)\n",
        "*   Music theory \n",
        "*   Standard book numbers (ISBNs)\n",
        "*   Bank identifiers\n",
        "\n",
        "And less interestingly but more commonly: \n",
        "\n",
        "*   Clocks (where 12 is what we call the modulus - when we reach 12 we wrap around again, so four hours after 9:00 is 1:00 and so on)\n",
        "*   Days of the week (where we wrap around 7)\n",
        "\n",
        "For example: \n",
        "\n",
        "1. What day of the week would it be 16 days from now?\n",
        "\n",
        "2. What time of day will it be 53 hours from now?\n",
        "\n",
        "3. What month will it be 14 months from now?\n",
        "\n",
        "\n",
        "We recalled that in Python we have the modulo operator (%). This operator is present in many programming languages! In Numpy, we actually also have a different operator called .mod(). Let's see it in action!\n"
      ]
    },
    {
      "cell_type": "code",
      "metadata": {
        "colab": {
          "base_uri": "https://localhost:8080/"
        },
        "id": "9qmVi1HqrXgw",
        "outputId": "76cc4aa3-5a54-4669-e018-3992a800cf4d"
      },
      "source": [
        "import numpy as np\n",
        "# NumPy's mod() method returns the element-wise remainder of division\n",
        "\n",
        "np.mod(10, 8)"
      ],
      "execution_count": null,
      "outputs": [
        {
          "output_type": "execute_result",
          "data": {
            "text/plain": [
              "2"
            ]
          },
          "metadata": {
            "tags": []
          },
          "execution_count": 2
        }
      ]
    },
    {
      "cell_type": "code",
      "metadata": {
        "colab": {
          "base_uri": "https://localhost:8080/"
        },
        "id": "N7ZlJI8EreIM",
        "outputId": "6af6a762-67fe-42c7-ae39-0f5a0832e77e"
      },
      "source": [
        "# Since it's meant to return the element-wise remainder, we can use it on a list!\n",
        "data = np.array([1, 2, 3, 4, 5, 6, 7, 8, 9, 10])\n",
        "# Return the element-wise remainder of the division between 10 and each item in our array \"data\"\n",
        "\n",
        "# np.mod takes (num1, num2) where num1 / num2\n",
        "# so here, we divide 10 by each item in \"data\"\n",
        "np.mod(10, data)"
      ],
      "execution_count": null,
      "outputs": [
        {
          "output_type": "execute_result",
          "data": {
            "text/plain": [
              "array([0, 0, 1, 2, 0, 4, 3, 2, 1, 0])"
            ]
          },
          "metadata": {
            "tags": []
          },
          "execution_count": 4
        }
      ]
    },
    {
      "cell_type": "code",
      "metadata": {
        "id": "JOS6Csmnzlak"
      },
      "source": [
        "# Can you calculate the remainder of the list below if we divide all elements by 10?\n",
        "# Remember the order of arguments to mod()\n",
        "lst = np.array([12, 13, 14, 15, 16, 17, 18, 19, 20])\n",
        "\n",
        "# What about if we divide 20 by each element in our array? \n",
        "# TODO: your code goes here"
      ],
      "execution_count": null,
      "outputs": []
    },
    {
      "cell_type": "markdown",
      "metadata": {
        "id": "F_1mEyxk06U8"
      },
      "source": [
        "Let's write our own modulo method using the starting code below!\n",
        "\n",
        "*Don't use  np.mod() or the Python modulo (%) operator!*"
      ]
    },
    {
      "cell_type": "code",
      "metadata": {
        "id": "ulZR3MDJ05CI"
      },
      "source": [
        "# For your code, you may assume that both number and divisor are positive integers, with number > divisor\n",
        "def modulo(number, divisor):\n",
        "  \"\"\"\n",
        "  Calculate remainder of number by divisor.\n",
        "\n",
        "  Input:Int\n",
        "  Return:Int\n",
        "  \"\"\"\n",
        "  # We can assume number will always be greater than divisor\n",
        "  # Let's handle a case where our divisor is zero\n",
        "  if divisor == 0:\n",
        "    return 0\n",
        "  # if our divisor is greater than our number, return number\n",
        "  if divisor > number:\n",
        "    return number\n",
        "\n",
        "  # initialize product\n",
        "  product = divisor\n",
        "  # TODO: find the largest product of \"divisor\"\n",
        "  # that is smaller than or equal to n1\n",
        "  while product <= number:\n",
        "    # TODO: Your code goes here\n",
        "    pass\n",
        "  return # TODO: return remainder\n",
        "\n",
        "\n",
        "print(modulo(25, 10))\n",
        "print(modulo(9, 13))\n",
        "print(modulo(9, 0))\n",
        "print(modulo(9, 3))\n",
        "print(modulo(12, 7))"
      ],
      "execution_count": 1,
      "outputs": []
    },
    {
      "cell_type": "markdown",
      "metadata": {
        "id": "5MOColMc9CDc"
      },
      "source": [
        "Try on your own first, but if you get stuck, you can check out [these solutions](https://colab.research.google.com/drive/1ekJf1i9hw5md0V1wWhJX7-UepVx7CoEL?usp=sharing)"
      ]
    },
    {
      "cell_type": "markdown",
      "metadata": {
        "id": "FaTAJYziGBhI"
      },
      "source": [
        "### More Practice\n",
        "\n",
        "Below are some more practical examples that can be solved using modulo arithmetic! \n",
        "\n",
        "First, let's tackle Fizz-Buzz. This is a common interview question, that you're likely to see for junior-level or internship interviews! \n",
        "\n",
        "**Fizz-Buzz**\n",
        "\n",
        "Write a program that prints the numbers from 1 to 100. For multiples of 3, your program should print \"Fizz\" instead of the number, and for multiples of 5, it should print \"Buzz\" instead of the number. \n",
        "\n",
        "Example output: \n",
        "\n",
        "1, 2, Fizz, 4, Buzz, Fizz, 7, 8, Fizz, Buzz, 11, Fizz, 13, 14, \n",
        "Fizz Buzz, 16, 17, Fizz, 19, Buzz, Fizz, 22, 23, Fizz, Buzz, 26, \n",
        "Fizz, 28, 29, Fizz Buzz, 31, 32, Fizz, 34, Buzz, Fizz, ..."
      ]
    },
    {
      "cell_type": "code",
      "metadata": {
        "id": "JkIadspLGAnU"
      },
      "source": [
        "# TODO: your code goes here!"
      ],
      "execution_count": 2,
      "outputs": []
    },
    {
      "cell_type": "markdown",
      "metadata": {
        "id": "BzrnGs6BGr7M"
      },
      "source": [
        "**Calculating Time Based on Seconds**\n",
        "\n",
        "Write a Python program that calculates time (days, hours, minutes and seconds) from seconds. \n",
        "\n",
        "Example: \n",
        "\n",
        "![pictoral representation courtesy of w3 Schools](https://www.w3resource.com/w3r_images/python-basic-image-exercise-65.png)"
      ]
    },
    {
      "cell_type": "code",
      "metadata": {
        "id": "mVBK77rdGrHo"
      },
      "source": [
        "# TODO: your code goes here!"
      ],
      "execution_count": null,
      "outputs": []
    },
    {
      "cell_type": "markdown",
      "metadata": {
        "id": "6Rt3FtmPMwnw"
      },
      "source": [
        "If you get *too* stuck on either of these, check out these solutions. Make sure, if you check the solution, that you're understanding what their code is doing that makes it work. Think about what you did differently and maybe why it didn't work so well.\n",
        "\n",
        "[Fizz Buzz](https://www.geeksforgeeks.org/fizz-buzz-implementation/)\n",
        "\n",
        "[Seconds to Hours, Minutes, Seconds](https://www.w3resource.com/python-exercises/python-basic-exercise-65.php)"
      ]
    }
  ]
}